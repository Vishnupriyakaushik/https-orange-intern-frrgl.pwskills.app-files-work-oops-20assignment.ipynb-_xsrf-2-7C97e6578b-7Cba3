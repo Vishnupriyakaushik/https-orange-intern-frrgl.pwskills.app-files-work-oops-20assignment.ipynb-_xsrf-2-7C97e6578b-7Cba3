{
 "cells": [
  {
   "cell_type": "code",
   "execution_count": null,
   "id": "b6a22097-4486-4fb4-bd91-271bc4355c21",
   "metadata": {},
   "outputs": [],
   "source": [
    "ans1. class:- class is a blueprint for an object.\n",
    "like- real world  entity has some properties or behaviour which is represented by class variables and methods in programing.\n",
    "syntax:- class class_name:\n",
    "                # variables\n",
    "                # methods\n",
    "      object:-As we know class is a logical entity while an object is a real or phycial entity thats works on class data.\n",
    "    \n",
    "          note:- 1. each object has distinct role or responsibility.\n",
    "                 2. object creates space on memory as per class member.\n",
    "   syntax:- obj.name() = class.name()      \n",
    "\n",
    "example:-\n",
    "    "
   ]
  },
  {
   "cell_type": "code",
   "execution_count": 23,
   "id": "fd394043-7cbf-40ac-9961-f1efe953c3a3",
   "metadata": {},
   "outputs": [
    {
     "name": "stdout",
     "output_type": "stream",
     "text": [
      "nishank kaushik\n",
      "88\n"
     ]
    }
   ],
   "source": [
    "class student:\n",
    "    pass\n",
    "student1= student()\n",
    "student1.name= \"nishank kaushik\"\n",
    "student1.age= 24\n",
    "student1.marks=88\n",
    "\n",
    "print(student1.name)\n",
    "print(student1.marks)"
   ]
  },
  {
   "cell_type": "markdown",
   "id": "2c22c23b-f1c2-4fdf-8220-ce12c39145df",
   "metadata": {
    "tags": []
   },
   "source": [
    "ans2 These principles are called the four pillars of object-oriented programming (OOP). These four pillars are Inheritance, Polymorphism, Encapsulation and Abstraction.\n"
   ]
  },
  {
   "cell_type": "code",
   "execution_count": null,
   "id": "507c3834-184e-490a-9fde-de6c264e4cec",
   "metadata": {},
   "outputs": [],
   "source": [
    "ans3:- The init method is a special method that automatically gets called everytime objects are created."
   ]
  },
  {
   "cell_type": "code",
   "execution_count": 51,
   "id": "ec358683-e4b4-46f9-b657-392f2bbcda3b",
   "metadata": {},
   "outputs": [
    {
     "name": "stdout",
     "output_type": "stream",
     "text": [
      "nishank kaushik\n",
      "88\n",
      "vishnu\n",
      "45\n"
     ]
    }
   ],
   "source": [
    "class student:\n",
    "         def __init__(self ,name, marks):\n",
    "            self.name=name\n",
    "            self.marks=marks\n",
    "student1 = student(\"nishank kaushik\",88)\n",
    "print(student1.name)\n",
    "print(student1.marks)\n",
    "student2 = student(\"vishnu\",45)\n",
    "print(student2.name)\n",
    "print(student2.marks)\n",
    "            "
   ]
  },
  {
   "cell_type": "code",
   "execution_count": null,
   "id": "1dd33d7b-868f-4ee4-b8f0-bd4f08209bba",
   "metadata": {},
   "outputs": [],
   "source": [
    "ans4:- The self parameter is a reference to the current instance of the class, and is used to access variables that belongs to the class.\n",
    "\n",
    "It does not have to be named self , you can call it whatever you like, but it has to be the first parameter of any function in the class"
   ]
  },
  {
   "cell_type": "code",
   "execution_count": 52,
   "id": "578c1c93-ccf4-417e-b023-d7c62ce1069f",
   "metadata": {},
   "outputs": [
    {
     "name": "stdout",
     "output_type": "stream",
     "text": [
      "himanshu\n"
     ]
    }
   ],
   "source": [
    "class student:\n",
    "        def __init__(maine, name, marks):\n",
    "            maine.name=name\n",
    "            maine.marks=marks\n",
    "student1 =student(\"himanshu\", 99)\n",
    "print(student1.name)\n",
    "            "
   ]
  },
  {
   "cell_type": "code",
   "execution_count": null,
   "id": "3eb7be76-e0b7-4dce-88ad-63e3ffc49b4d",
   "metadata": {},
   "outputs": [],
   "source": [
    "ans5:- Inheritance allows us to inherit attributes and method from a parent class to child classes\n",
    "example:"
   ]
  },
  {
   "cell_type": "code",
   "execution_count": 54,
   "id": "6136db74-cc30-4f5d-86af-60cf8f6fbc09",
   "metadata": {},
   "outputs": [
    {
     "name": "stdout",
     "output_type": "stream",
     "text": [
      "i can bark\n",
      "i can eat\n"
     ]
    }
   ],
   "source": [
    "class animal:\n",
    "    def eat(self):\n",
    "        print(\"i can eat\")\n",
    "      \n",
    "class dog(animal):\n",
    "    def bark(self):\n",
    "        print(\"i can bark\")\n",
    "        \n",
    "dog1 = dog()\n",
    "dog1.bark()\n",
    "dog1.eat()\n",
    "\n",
    "    \n",
    "            "
   ]
  },
  {
   "cell_type": "code",
   "execution_count": null,
   "id": "b36d3646-e7fb-4e51-923c-4d5926a7aa7d",
   "metadata": {},
   "outputs": [],
   "source": []
  }
 ],
 "metadata": {
  "kernelspec": {
   "display_name": "Python 3 (ipykernel)",
   "language": "python",
   "name": "python3"
  },
  "language_info": {
   "codemirror_mode": {
    "name": "ipython",
    "version": 3
   },
   "file_extension": ".py",
   "mimetype": "text/x-python",
   "name": "python",
   "nbconvert_exporter": "python",
   "pygments_lexer": "ipython3",
   "version": "3.10.8"
  }
 },
 "nbformat": 4,
 "nbformat_minor": 5
}
